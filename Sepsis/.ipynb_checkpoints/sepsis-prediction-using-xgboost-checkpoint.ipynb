{
 "cells": [
  {
   "cell_type": "code",
   "execution_count": 1,
   "id": "68a38eb9",
   "metadata": {
    "_cell_guid": "b1076dfc-b9ad-4769-8c92-a6c4dae69d19",
    "_uuid": "8f2839f25d086af736a60e9eeb907d3b93b6e0e5",
    "execution": {
     "iopub.execute_input": "2023-03-20T11:59:59.812592Z",
     "iopub.status.busy": "2023-03-20T11:59:59.811969Z",
     "iopub.status.idle": "2023-03-20T11:59:59.825941Z",
     "shell.execute_reply": "2023-03-20T11:59:59.824617Z"
    },
    "papermill": {
     "duration": 0.025011,
     "end_time": "2023-03-20T11:59:59.828506",
     "exception": false,
     "start_time": "2023-03-20T11:59:59.803495",
     "status": "completed"
    },
    "tags": []
   },
   "outputs": [],
   "source": [
    "import numpy as np \n",
    "import pandas as pd "
   ]
  },
  {
   "cell_type": "code",
   "execution_count": 2,
   "id": "2097bb50",
   "metadata": {
    "execution": {
     "iopub.execute_input": "2023-03-20T11:59:59.841159Z",
     "iopub.status.busy": "2023-03-20T11:59:59.839924Z",
     "iopub.status.idle": "2023-03-20T11:59:59.892444Z",
     "shell.execute_reply": "2023-03-20T11:59:59.891007Z"
    },
    "papermill": {
     "duration": 0.062482,
     "end_time": "2023-03-20T11:59:59.895921",
     "exception": false,
     "start_time": "2023-03-20T11:59:59.833439",
     "status": "completed"
    },
    "tags": []
   },
   "outputs": [
    {
     "data": {
      "text/html": [
       "<div>\n",
       "<style scoped>\n",
       "    .dataframe tbody tr th:only-of-type {\n",
       "        vertical-align: middle;\n",
       "    }\n",
       "\n",
       "    .dataframe tbody tr th {\n",
       "        vertical-align: top;\n",
       "    }\n",
       "\n",
       "    .dataframe thead th {\n",
       "        text-align: right;\n",
       "    }\n",
       "</style>\n",
       "<table border=\"1\" class=\"dataframe\">\n",
       "  <thead>\n",
       "    <tr style=\"text-align: right;\">\n",
       "      <th></th>\n",
       "      <th>ID</th>\n",
       "      <th>PRG</th>\n",
       "      <th>PL</th>\n",
       "      <th>PR</th>\n",
       "      <th>SK</th>\n",
       "      <th>TS</th>\n",
       "      <th>M11</th>\n",
       "      <th>BD2</th>\n",
       "      <th>Age</th>\n",
       "      <th>Insurance</th>\n",
       "      <th>Sepssis</th>\n",
       "    </tr>\n",
       "  </thead>\n",
       "  <tbody>\n",
       "    <tr>\n",
       "      <th>0</th>\n",
       "      <td>ICU200010</td>\n",
       "      <td>6</td>\n",
       "      <td>148</td>\n",
       "      <td>72</td>\n",
       "      <td>35</td>\n",
       "      <td>0</td>\n",
       "      <td>33.6</td>\n",
       "      <td>0.627</td>\n",
       "      <td>50</td>\n",
       "      <td>0</td>\n",
       "      <td>Positive</td>\n",
       "    </tr>\n",
       "    <tr>\n",
       "      <th>1</th>\n",
       "      <td>ICU200011</td>\n",
       "      <td>1</td>\n",
       "      <td>85</td>\n",
       "      <td>66</td>\n",
       "      <td>29</td>\n",
       "      <td>0</td>\n",
       "      <td>26.6</td>\n",
       "      <td>0.351</td>\n",
       "      <td>31</td>\n",
       "      <td>0</td>\n",
       "      <td>Negative</td>\n",
       "    </tr>\n",
       "    <tr>\n",
       "      <th>2</th>\n",
       "      <td>ICU200012</td>\n",
       "      <td>8</td>\n",
       "      <td>183</td>\n",
       "      <td>64</td>\n",
       "      <td>0</td>\n",
       "      <td>0</td>\n",
       "      <td>23.3</td>\n",
       "      <td>0.672</td>\n",
       "      <td>32</td>\n",
       "      <td>1</td>\n",
       "      <td>Positive</td>\n",
       "    </tr>\n",
       "    <tr>\n",
       "      <th>3</th>\n",
       "      <td>ICU200013</td>\n",
       "      <td>1</td>\n",
       "      <td>89</td>\n",
       "      <td>66</td>\n",
       "      <td>23</td>\n",
       "      <td>94</td>\n",
       "      <td>28.1</td>\n",
       "      <td>0.167</td>\n",
       "      <td>21</td>\n",
       "      <td>1</td>\n",
       "      <td>Negative</td>\n",
       "    </tr>\n",
       "    <tr>\n",
       "      <th>4</th>\n",
       "      <td>ICU200014</td>\n",
       "      <td>0</td>\n",
       "      <td>137</td>\n",
       "      <td>40</td>\n",
       "      <td>35</td>\n",
       "      <td>168</td>\n",
       "      <td>43.1</td>\n",
       "      <td>2.288</td>\n",
       "      <td>33</td>\n",
       "      <td>1</td>\n",
       "      <td>Positive</td>\n",
       "    </tr>\n",
       "  </tbody>\n",
       "</table>\n",
       "</div>"
      ],
      "text/plain": [
       "          ID  PRG   PL  PR  SK   TS   M11    BD2  Age  Insurance   Sepssis\n",
       "0  ICU200010    6  148  72  35    0  33.6  0.627   50          0  Positive\n",
       "1  ICU200011    1   85  66  29    0  26.6  0.351   31          0  Negative\n",
       "2  ICU200012    8  183  64   0    0  23.3  0.672   32          1  Positive\n",
       "3  ICU200013    1   89  66  23   94  28.1  0.167   21          1  Negative\n",
       "4  ICU200014    0  137  40  35  168  43.1  2.288   33          1  Positive"
      ]
     },
     "execution_count": 2,
     "metadata": {},
     "output_type": "execute_result"
    }
   ],
   "source": [
    "df_train = pd.read_csv('/kaggle/input/sepsis/Paitients_Files_Train.csv')\n",
    "df_train.head()"
   ]
  },
  {
   "cell_type": "code",
   "execution_count": 3,
   "id": "9b592293",
   "metadata": {
    "execution": {
     "iopub.execute_input": "2023-03-20T11:59:59.909818Z",
     "iopub.status.busy": "2023-03-20T11:59:59.908312Z",
     "iopub.status.idle": "2023-03-20T11:59:59.936090Z",
     "shell.execute_reply": "2023-03-20T11:59:59.934565Z"
    },
    "papermill": {
     "duration": 0.037265,
     "end_time": "2023-03-20T11:59:59.938879",
     "exception": false,
     "start_time": "2023-03-20T11:59:59.901614",
     "status": "completed"
    },
    "tags": []
   },
   "outputs": [
    {
     "data": {
      "text/html": [
       "<div>\n",
       "<style scoped>\n",
       "    .dataframe tbody tr th:only-of-type {\n",
       "        vertical-align: middle;\n",
       "    }\n",
       "\n",
       "    .dataframe tbody tr th {\n",
       "        vertical-align: top;\n",
       "    }\n",
       "\n",
       "    .dataframe thead th {\n",
       "        text-align: right;\n",
       "    }\n",
       "</style>\n",
       "<table border=\"1\" class=\"dataframe\">\n",
       "  <thead>\n",
       "    <tr style=\"text-align: right;\">\n",
       "      <th></th>\n",
       "      <th>PRG</th>\n",
       "      <th>PL</th>\n",
       "      <th>PR</th>\n",
       "      <th>SK</th>\n",
       "      <th>TS</th>\n",
       "      <th>M11</th>\n",
       "      <th>BD2</th>\n",
       "      <th>Age</th>\n",
       "      <th>Insurance</th>\n",
       "      <th>sepsis_encoded</th>\n",
       "    </tr>\n",
       "  </thead>\n",
       "  <tbody>\n",
       "    <tr>\n",
       "      <th>0</th>\n",
       "      <td>6</td>\n",
       "      <td>148</td>\n",
       "      <td>72</td>\n",
       "      <td>35</td>\n",
       "      <td>0</td>\n",
       "      <td>33.6</td>\n",
       "      <td>0.627</td>\n",
       "      <td>50</td>\n",
       "      <td>0</td>\n",
       "      <td>1</td>\n",
       "    </tr>\n",
       "    <tr>\n",
       "      <th>1</th>\n",
       "      <td>1</td>\n",
       "      <td>85</td>\n",
       "      <td>66</td>\n",
       "      <td>29</td>\n",
       "      <td>0</td>\n",
       "      <td>26.6</td>\n",
       "      <td>0.351</td>\n",
       "      <td>31</td>\n",
       "      <td>0</td>\n",
       "      <td>0</td>\n",
       "    </tr>\n",
       "    <tr>\n",
       "      <th>2</th>\n",
       "      <td>8</td>\n",
       "      <td>183</td>\n",
       "      <td>64</td>\n",
       "      <td>0</td>\n",
       "      <td>0</td>\n",
       "      <td>23.3</td>\n",
       "      <td>0.672</td>\n",
       "      <td>32</td>\n",
       "      <td>1</td>\n",
       "      <td>1</td>\n",
       "    </tr>\n",
       "    <tr>\n",
       "      <th>3</th>\n",
       "      <td>1</td>\n",
       "      <td>89</td>\n",
       "      <td>66</td>\n",
       "      <td>23</td>\n",
       "      <td>94</td>\n",
       "      <td>28.1</td>\n",
       "      <td>0.167</td>\n",
       "      <td>21</td>\n",
       "      <td>1</td>\n",
       "      <td>0</td>\n",
       "    </tr>\n",
       "    <tr>\n",
       "      <th>4</th>\n",
       "      <td>0</td>\n",
       "      <td>137</td>\n",
       "      <td>40</td>\n",
       "      <td>35</td>\n",
       "      <td>168</td>\n",
       "      <td>43.1</td>\n",
       "      <td>2.288</td>\n",
       "      <td>33</td>\n",
       "      <td>1</td>\n",
       "      <td>1</td>\n",
       "    </tr>\n",
       "  </tbody>\n",
       "</table>\n",
       "</div>"
      ],
      "text/plain": [
       "   PRG   PL  PR  SK   TS   M11    BD2  Age  Insurance  sepsis_encoded\n",
       "0    6  148  72  35    0  33.6  0.627   50          0               1\n",
       "1    1   85  66  29    0  26.6  0.351   31          0               0\n",
       "2    8  183  64   0    0  23.3  0.672   32          1               1\n",
       "3    1   89  66  23   94  28.1  0.167   21          1               0\n",
       "4    0  137  40  35  168  43.1  2.288   33          1               1"
      ]
     },
     "execution_count": 3,
     "metadata": {},
     "output_type": "execute_result"
    }
   ],
   "source": [
    "df_train['sepsis_encoded'] = df_train['Sepssis'].map({'Positive':1, 'Negative': 0})\n",
    "df_train = df_train.drop(['ID', 'Sepssis'], axis='columns')\n",
    "df_train.head()"
   ]
  },
  {
   "cell_type": "code",
   "execution_count": 4,
   "id": "068230b1",
   "metadata": {
    "execution": {
     "iopub.execute_input": "2023-03-20T11:59:59.952045Z",
     "iopub.status.busy": "2023-03-20T11:59:59.951621Z",
     "iopub.status.idle": "2023-03-20T11:59:59.964383Z",
     "shell.execute_reply": "2023-03-20T11:59:59.963163Z"
    },
    "papermill": {
     "duration": 0.022302,
     "end_time": "2023-03-20T11:59:59.966988",
     "exception": false,
     "start_time": "2023-03-20T11:59:59.944686",
     "status": "completed"
    },
    "tags": []
   },
   "outputs": [
    {
     "data": {
      "text/plain": [
       "0    391\n",
       "1    208\n",
       "Name: sepsis_encoded, dtype: int64"
      ]
     },
     "execution_count": 4,
     "metadata": {},
     "output_type": "execute_result"
    }
   ],
   "source": [
    "df_train['sepsis_encoded'].value_counts()"
   ]
  },
  {
   "cell_type": "code",
   "execution_count": 5,
   "id": "46062804",
   "metadata": {
    "execution": {
     "iopub.execute_input": "2023-03-20T11:59:59.980192Z",
     "iopub.status.busy": "2023-03-20T11:59:59.979771Z",
     "iopub.status.idle": "2023-03-20T11:59:59.985943Z",
     "shell.execute_reply": "2023-03-20T11:59:59.984564Z"
    },
    "papermill": {
     "duration": 0.015731,
     "end_time": "2023-03-20T11:59:59.988324",
     "exception": false,
     "start_time": "2023-03-20T11:59:59.972593",
     "status": "completed"
    },
    "tags": []
   },
   "outputs": [],
   "source": [
    "X = df_train.iloc[:,:-1]\n",
    "y = df_train.iloc[:,-1]"
   ]
  },
  {
   "cell_type": "code",
   "execution_count": 6,
   "id": "ffee3e0e",
   "metadata": {
    "execution": {
     "iopub.execute_input": "2023-03-20T12:00:00.003020Z",
     "iopub.status.busy": "2023-03-20T12:00:00.001432Z",
     "iopub.status.idle": "2023-03-20T12:00:01.220737Z",
     "shell.execute_reply": "2023-03-20T12:00:01.219351Z"
    },
    "papermill": {
     "duration": 1.229688,
     "end_time": "2023-03-20T12:00:01.223437",
     "exception": false,
     "start_time": "2023-03-20T11:59:59.993749",
     "status": "completed"
    },
    "tags": []
   },
   "outputs": [
    {
     "data": {
      "text/plain": [
       "((479, 9), (120, 9), (479,), (120,))"
      ]
     },
     "execution_count": 6,
     "metadata": {},
     "output_type": "execute_result"
    }
   ],
   "source": [
    "from sklearn.model_selection import train_test_split\n",
    "X_train, X_test, y_train, y_test = train_test_split(X, y, test_size=0.2, stratify=y, random_state=2023)\n",
    "X_train.shape, X_test.shape, y_train.shape, y_test.shape"
   ]
  },
  {
   "cell_type": "markdown",
   "id": "8815d082",
   "metadata": {
    "papermill": {
     "duration": 0.005144,
     "end_time": "2023-03-20T12:00:01.234395",
     "exception": false,
     "start_time": "2023-03-20T12:00:01.229251",
     "status": "completed"
    },
    "tags": []
   },
   "source": [
    "# Optuna"
   ]
  },
  {
   "cell_type": "code",
   "execution_count": 7,
   "id": "5429bd09",
   "metadata": {
    "execution": {
     "iopub.execute_input": "2023-03-20T12:00:01.247448Z",
     "iopub.status.busy": "2023-03-20T12:00:01.247014Z",
     "iopub.status.idle": "2023-03-20T12:00:01.967118Z",
     "shell.execute_reply": "2023-03-20T12:00:01.965646Z"
    },
    "papermill": {
     "duration": 0.730365,
     "end_time": "2023-03-20T12:00:01.970234",
     "exception": false,
     "start_time": "2023-03-20T12:00:01.239869",
     "status": "completed"
    },
    "tags": []
   },
   "outputs": [],
   "source": [
    "import optuna\n",
    "from xgboost import XGBClassifier\n",
    "from sklearn.model_selection import cross_val_score"
   ]
  },
  {
   "cell_type": "code",
   "execution_count": 8,
   "id": "4f4f1999",
   "metadata": {
    "execution": {
     "iopub.execute_input": "2023-03-20T12:00:01.983553Z",
     "iopub.status.busy": "2023-03-20T12:00:01.983090Z",
     "iopub.status.idle": "2023-03-20T12:00:01.991993Z",
     "shell.execute_reply": "2023-03-20T12:00:01.990546Z"
    },
    "papermill": {
     "duration": 0.018471,
     "end_time": "2023-03-20T12:00:01.994430",
     "exception": false,
     "start_time": "2023-03-20T12:00:01.975959",
     "status": "completed"
    },
    "tags": []
   },
   "outputs": [],
   "source": [
    "def objective(trial):\n",
    "    learning_rate = trial.suggest_uniform('learning_rate', 0.01, 1)\n",
    "    max_depth = trial.suggest_int('max_depth', 2, 11)\n",
    "    n_estimators = trial.suggest_int('n_estimators', 50, 200)\n",
    "    min_child_weight = trial.suggest_int('min_child_weight', 1, 10)\n",
    "    gamma = trial.suggest_uniform('gamma', 0.01, 5)\n",
    "    subsample = trial.suggest_uniform('subsample', 0.01, 1)\n",
    "    clf1 = XGBClassifier(learning_rate=learning_rate,\n",
    "                         max_depth=max_depth,\n",
    "                         n_estimators=n_estimators,\n",
    "                         min_child_weight=min_child_weight,\n",
    "                         gamma=gamma)\n",
    "    score = cross_val_score(clf1, X_train, y_train, cv=5)\n",
    "    return np.mean(score)"
   ]
  },
  {
   "cell_type": "code",
   "execution_count": 9,
   "id": "4be2deba",
   "metadata": {
    "execution": {
     "iopub.execute_input": "2023-03-20T12:00:02.008708Z",
     "iopub.status.busy": "2023-03-20T12:00:02.008217Z",
     "iopub.status.idle": "2023-03-20T12:00:46.089938Z",
     "shell.execute_reply": "2023-03-20T12:00:46.088868Z"
    },
    "papermill": {
     "duration": 44.092964,
     "end_time": "2023-03-20T12:00:46.092877",
     "exception": false,
     "start_time": "2023-03-20T12:00:01.999913",
     "status": "completed"
    },
    "tags": []
   },
   "outputs": [
    {
     "name": "stderr",
     "output_type": "stream",
     "text": [
      "\u001b[32m[I 2023-03-20 12:00:02,011]\u001b[0m A new study created in memory with name: no-name-04939a70-784e-435c-9acb-f92cd1bf6bde\u001b[0m\n",
      "/opt/conda/lib/python3.7/site-packages/ipykernel_launcher.py:2: FutureWarning: suggest_uniform has been deprecated in v3.0.0. This feature will be removed in v6.0.0. See https://github.com/optuna/optuna/releases/tag/v3.0.0. Use :func:`~optuna.trial.Trial.suggest_float` instead.\n",
      "  \n",
      "/opt/conda/lib/python3.7/site-packages/ipykernel_launcher.py:6: FutureWarning: suggest_uniform has been deprecated in v3.0.0. This feature will be removed in v6.0.0. See https://github.com/optuna/optuna/releases/tag/v3.0.0. Use :func:`~optuna.trial.Trial.suggest_float` instead.\n",
      "  \n",
      "/opt/conda/lib/python3.7/site-packages/ipykernel_launcher.py:7: FutureWarning: suggest_uniform has been deprecated in v3.0.0. This feature will be removed in v6.0.0. See https://github.com/optuna/optuna/releases/tag/v3.0.0. Use :func:`~optuna.trial.Trial.suggest_float` instead.\n",
      "  import sys\n",
      "\u001b[32m[I 2023-03-20 12:00:04,158]\u001b[0m Trial 0 finished with value: 0.728640350877193 and parameters: {'learning_rate': 0.3807947176588889, 'max_depth': 11, 'n_estimators': 160, 'min_child_weight': 6, 'gamma': 0.7885330158077583, 'subsample': 0.16443457513284063}. Best is trial 0 with value: 0.728640350877193.\u001b[0m\n",
      "/opt/conda/lib/python3.7/site-packages/ipykernel_launcher.py:2: FutureWarning: suggest_uniform has been deprecated in v3.0.0. This feature will be removed in v6.0.0. See https://github.com/optuna/optuna/releases/tag/v3.0.0. Use :func:`~optuna.trial.Trial.suggest_float` instead.\n",
      "  \n",
      "/opt/conda/lib/python3.7/site-packages/ipykernel_launcher.py:6: FutureWarning: suggest_uniform has been deprecated in v3.0.0. This feature will be removed in v6.0.0. See https://github.com/optuna/optuna/releases/tag/v3.0.0. Use :func:`~optuna.trial.Trial.suggest_float` instead.\n",
      "  \n",
      "/opt/conda/lib/python3.7/site-packages/ipykernel_launcher.py:7: FutureWarning: suggest_uniform has been deprecated in v3.0.0. This feature will be removed in v6.0.0. See https://github.com/optuna/optuna/releases/tag/v3.0.0. Use :func:`~optuna.trial.Trial.suggest_float` instead.\n",
      "  import sys\n",
      "\u001b[32m[I 2023-03-20 12:00:06,000]\u001b[0m Trial 1 finished with value: 0.7474122807017544 and parameters: {'learning_rate': 0.06750277604651747, 'max_depth': 10, 'n_estimators': 140, 'min_child_weight': 8, 'gamma': 0.11271662653605422, 'subsample': 0.9702107536403743}. Best is trial 1 with value: 0.7474122807017544.\u001b[0m\n",
      "/opt/conda/lib/python3.7/site-packages/ipykernel_launcher.py:2: FutureWarning: suggest_uniform has been deprecated in v3.0.0. This feature will be removed in v6.0.0. See https://github.com/optuna/optuna/releases/tag/v3.0.0. Use :func:`~optuna.trial.Trial.suggest_float` instead.\n",
      "  \n",
      "/opt/conda/lib/python3.7/site-packages/ipykernel_launcher.py:6: FutureWarning: suggest_uniform has been deprecated in v3.0.0. This feature will be removed in v6.0.0. See https://github.com/optuna/optuna/releases/tag/v3.0.0. Use :func:`~optuna.trial.Trial.suggest_float` instead.\n",
      "  \n",
      "/opt/conda/lib/python3.7/site-packages/ipykernel_launcher.py:7: FutureWarning: suggest_uniform has been deprecated in v3.0.0. This feature will be removed in v6.0.0. See https://github.com/optuna/optuna/releases/tag/v3.0.0. Use :func:`~optuna.trial.Trial.suggest_float` instead.\n",
      "  import sys\n",
      "\u001b[32m[I 2023-03-20 12:00:07,062]\u001b[0m Trial 2 finished with value: 0.7264473684210526 and parameters: {'learning_rate': 0.8341182143924175, 'max_depth': 4, 'n_estimators': 77, 'min_child_weight': 2, 'gamma': 1.5281687923680933, 'subsample': 0.5295088673159155}. Best is trial 1 with value: 0.7474122807017544.\u001b[0m\n",
      "/opt/conda/lib/python3.7/site-packages/ipykernel_launcher.py:2: FutureWarning: suggest_uniform has been deprecated in v3.0.0. This feature will be removed in v6.0.0. See https://github.com/optuna/optuna/releases/tag/v3.0.0. Use :func:`~optuna.trial.Trial.suggest_float` instead.\n",
      "  \n",
      "/opt/conda/lib/python3.7/site-packages/ipykernel_launcher.py:6: FutureWarning: suggest_uniform has been deprecated in v3.0.0. This feature will be removed in v6.0.0. See https://github.com/optuna/optuna/releases/tag/v3.0.0. Use :func:`~optuna.trial.Trial.suggest_float` instead.\n",
      "  \n",
      "/opt/conda/lib/python3.7/site-packages/ipykernel_launcher.py:7: FutureWarning: suggest_uniform has been deprecated in v3.0.0. This feature will be removed in v6.0.0. See https://github.com/optuna/optuna/releases/tag/v3.0.0. Use :func:`~optuna.trial.Trial.suggest_float` instead.\n",
      "  import sys\n",
      "\u001b[32m[I 2023-03-20 12:00:08,940]\u001b[0m Trial 3 finished with value: 0.7411622807017545 and parameters: {'learning_rate': 0.4376255684556946, 'max_depth': 4, 'n_estimators': 142, 'min_child_weight': 2, 'gamma': 1.4678017961907386, 'subsample': 0.37269822486075477}. Best is trial 1 with value: 0.7474122807017544.\u001b[0m\n",
      "/opt/conda/lib/python3.7/site-packages/ipykernel_launcher.py:2: FutureWarning: suggest_uniform has been deprecated in v3.0.0. This feature will be removed in v6.0.0. See https://github.com/optuna/optuna/releases/tag/v3.0.0. Use :func:`~optuna.trial.Trial.suggest_float` instead.\n",
      "  \n",
      "/opt/conda/lib/python3.7/site-packages/ipykernel_launcher.py:6: FutureWarning: suggest_uniform has been deprecated in v3.0.0. This feature will be removed in v6.0.0. See https://github.com/optuna/optuna/releases/tag/v3.0.0. Use :func:`~optuna.trial.Trial.suggest_float` instead.\n",
      "  \n",
      "/opt/conda/lib/python3.7/site-packages/ipykernel_launcher.py:7: FutureWarning: suggest_uniform has been deprecated in v3.0.0. This feature will be removed in v6.0.0. See https://github.com/optuna/optuna/releases/tag/v3.0.0. Use :func:`~optuna.trial.Trial.suggest_float` instead.\n",
      "  import sys\n",
      "\u001b[32m[I 2023-03-20 12:00:10,072]\u001b[0m Trial 4 finished with value: 0.7557456140350878 and parameters: {'learning_rate': 0.46150928437486555, 'max_depth': 9, 'n_estimators': 80, 'min_child_weight': 6, 'gamma': 2.9661486986215917, 'subsample': 0.05598590859279775}. Best is trial 4 with value: 0.7557456140350878.\u001b[0m\n",
      "/opt/conda/lib/python3.7/site-packages/ipykernel_launcher.py:2: FutureWarning: suggest_uniform has been deprecated in v3.0.0. This feature will be removed in v6.0.0. See https://github.com/optuna/optuna/releases/tag/v3.0.0. Use :func:`~optuna.trial.Trial.suggest_float` instead.\n",
      "  \n",
      "/opt/conda/lib/python3.7/site-packages/ipykernel_launcher.py:6: FutureWarning: suggest_uniform has been deprecated in v3.0.0. This feature will be removed in v6.0.0. See https://github.com/optuna/optuna/releases/tag/v3.0.0. Use :func:`~optuna.trial.Trial.suggest_float` instead.\n",
      "  \n",
      "/opt/conda/lib/python3.7/site-packages/ipykernel_launcher.py:7: FutureWarning: suggest_uniform has been deprecated in v3.0.0. This feature will be removed in v6.0.0. See https://github.com/optuna/optuna/releases/tag/v3.0.0. Use :func:`~optuna.trial.Trial.suggest_float` instead.\n",
      "  import sys\n",
      "\u001b[32m[I 2023-03-20 12:00:10,962]\u001b[0m Trial 5 finished with value: 0.7432017543859649 and parameters: {'learning_rate': 0.611469403382424, 'max_depth': 3, 'n_estimators': 59, 'min_child_weight': 10, 'gamma': 4.828503845042051, 'subsample': 0.8103133746352965}. Best is trial 4 with value: 0.7557456140350878.\u001b[0m\n",
      "/opt/conda/lib/python3.7/site-packages/ipykernel_launcher.py:2: FutureWarning: suggest_uniform has been deprecated in v3.0.0. This feature will be removed in v6.0.0. See https://github.com/optuna/optuna/releases/tag/v3.0.0. Use :func:`~optuna.trial.Trial.suggest_float` instead.\n",
      "  \n",
      "/opt/conda/lib/python3.7/site-packages/ipykernel_launcher.py:6: FutureWarning: suggest_uniform has been deprecated in v3.0.0. This feature will be removed in v6.0.0. See https://github.com/optuna/optuna/releases/tag/v3.0.0. Use :func:`~optuna.trial.Trial.suggest_float` instead.\n",
      "  \n",
      "/opt/conda/lib/python3.7/site-packages/ipykernel_launcher.py:7: FutureWarning: suggest_uniform has been deprecated in v3.0.0. This feature will be removed in v6.0.0. See https://github.com/optuna/optuna/releases/tag/v3.0.0. Use :func:`~optuna.trial.Trial.suggest_float` instead.\n",
      "  import sys\n",
      "\u001b[32m[I 2023-03-20 12:00:12,795]\u001b[0m Trial 6 finished with value: 0.7265350877192982 and parameters: {'learning_rate': 0.31156763148163696, 'max_depth': 2, 'n_estimators': 153, 'min_child_weight': 5, 'gamma': 0.6189707918754463, 'subsample': 0.5002251410101575}. Best is trial 4 with value: 0.7557456140350878.\u001b[0m\n",
      "/opt/conda/lib/python3.7/site-packages/ipykernel_launcher.py:2: FutureWarning: suggest_uniform has been deprecated in v3.0.0. This feature will be removed in v6.0.0. See https://github.com/optuna/optuna/releases/tag/v3.0.0. Use :func:`~optuna.trial.Trial.suggest_float` instead.\n",
      "  \n",
      "/opt/conda/lib/python3.7/site-packages/ipykernel_launcher.py:6: FutureWarning: suggest_uniform has been deprecated in v3.0.0. This feature will be removed in v6.0.0. See https://github.com/optuna/optuna/releases/tag/v3.0.0. Use :func:`~optuna.trial.Trial.suggest_float` instead.\n",
      "  \n",
      "/opt/conda/lib/python3.7/site-packages/ipykernel_launcher.py:7: FutureWarning: suggest_uniform has been deprecated in v3.0.0. This feature will be removed in v6.0.0. See https://github.com/optuna/optuna/releases/tag/v3.0.0. Use :func:`~optuna.trial.Trial.suggest_float` instead.\n",
      "  import sys\n",
      "\u001b[32m[I 2023-03-20 12:00:14,056]\u001b[0m Trial 7 finished with value: 0.7640789473684211 and parameters: {'learning_rate': 0.044044635904066216, 'max_depth': 11, 'n_estimators': 89, 'min_child_weight': 7, 'gamma': 1.5654382696861608, 'subsample': 0.5248673409660327}. Best is trial 7 with value: 0.7640789473684211.\u001b[0m\n",
      "/opt/conda/lib/python3.7/site-packages/ipykernel_launcher.py:2: FutureWarning: suggest_uniform has been deprecated in v3.0.0. This feature will be removed in v6.0.0. See https://github.com/optuna/optuna/releases/tag/v3.0.0. Use :func:`~optuna.trial.Trial.suggest_float` instead.\n",
      "  \n",
      "/opt/conda/lib/python3.7/site-packages/ipykernel_launcher.py:6: FutureWarning: suggest_uniform has been deprecated in v3.0.0. This feature will be removed in v6.0.0. See https://github.com/optuna/optuna/releases/tag/v3.0.0. Use :func:`~optuna.trial.Trial.suggest_float` instead.\n",
      "  \n",
      "/opt/conda/lib/python3.7/site-packages/ipykernel_launcher.py:7: FutureWarning: suggest_uniform has been deprecated in v3.0.0. This feature will be removed in v6.0.0. See https://github.com/optuna/optuna/releases/tag/v3.0.0. Use :func:`~optuna.trial.Trial.suggest_float` instead.\n",
      "  import sys\n",
      "\u001b[32m[I 2023-03-20 12:00:16,414]\u001b[0m Trial 8 finished with value: 0.7348464912280702 and parameters: {'learning_rate': 0.5512431765498469, 'max_depth': 3, 'n_estimators': 196, 'min_child_weight': 8, 'gamma': 4.698099718405303, 'subsample': 0.8958790769233723}. Best is trial 7 with value: 0.7640789473684211.\u001b[0m\n",
      "/opt/conda/lib/python3.7/site-packages/ipykernel_launcher.py:2: FutureWarning: suggest_uniform has been deprecated in v3.0.0. This feature will be removed in v6.0.0. See https://github.com/optuna/optuna/releases/tag/v3.0.0. Use :func:`~optuna.trial.Trial.suggest_float` instead.\n",
      "  \n",
      "/opt/conda/lib/python3.7/site-packages/ipykernel_launcher.py:6: FutureWarning: suggest_uniform has been deprecated in v3.0.0. This feature will be removed in v6.0.0. See https://github.com/optuna/optuna/releases/tag/v3.0.0. Use :func:`~optuna.trial.Trial.suggest_float` instead.\n",
      "  \n",
      "/opt/conda/lib/python3.7/site-packages/ipykernel_launcher.py:7: FutureWarning: suggest_uniform has been deprecated in v3.0.0. This feature will be removed in v6.0.0. See https://github.com/optuna/optuna/releases/tag/v3.0.0. Use :func:`~optuna.trial.Trial.suggest_float` instead.\n",
      "  import sys\n",
      "\u001b[32m[I 2023-03-20 12:00:17,346]\u001b[0m Trial 9 finished with value: 0.7077850877192982 and parameters: {'learning_rate': 0.6019209790229743, 'max_depth': 11, 'n_estimators': 63, 'min_child_weight': 2, 'gamma': 0.23568417166358496, 'subsample': 0.3320770274556317}. Best is trial 7 with value: 0.7640789473684211.\u001b[0m\n",
      "/opt/conda/lib/python3.7/site-packages/ipykernel_launcher.py:2: FutureWarning: suggest_uniform has been deprecated in v3.0.0. This feature will be removed in v6.0.0. See https://github.com/optuna/optuna/releases/tag/v3.0.0. Use :func:`~optuna.trial.Trial.suggest_float` instead.\n",
      "  \n",
      "/opt/conda/lib/python3.7/site-packages/ipykernel_launcher.py:6: FutureWarning: suggest_uniform has been deprecated in v3.0.0. This feature will be removed in v6.0.0. See https://github.com/optuna/optuna/releases/tag/v3.0.0. Use :func:`~optuna.trial.Trial.suggest_float` instead.\n",
      "  \n",
      "/opt/conda/lib/python3.7/site-packages/ipykernel_launcher.py:7: FutureWarning: suggest_uniform has been deprecated in v3.0.0. This feature will be removed in v6.0.0. See https://github.com/optuna/optuna/releases/tag/v3.0.0. Use :func:`~optuna.trial.Trial.suggest_float` instead.\n",
      "  import sys\n",
      "\u001b[32m[I 2023-03-20 12:00:18,940]\u001b[0m Trial 10 finished with value: 0.7515789473684211 and parameters: {'learning_rate': 0.030308789218210588, 'max_depth': 7, 'n_estimators': 105, 'min_child_weight': 4, 'gamma': 2.5176307761972323, 'subsample': 0.6933446028334536}. Best is trial 7 with value: 0.7640789473684211.\u001b[0m\n",
      "/opt/conda/lib/python3.7/site-packages/ipykernel_launcher.py:2: FutureWarning: suggest_uniform has been deprecated in v3.0.0. This feature will be removed in v6.0.0. See https://github.com/optuna/optuna/releases/tag/v3.0.0. Use :func:`~optuna.trial.Trial.suggest_float` instead.\n",
      "  \n",
      "/opt/conda/lib/python3.7/site-packages/ipykernel_launcher.py:6: FutureWarning: suggest_uniform has been deprecated in v3.0.0. This feature will be removed in v6.0.0. See https://github.com/optuna/optuna/releases/tag/v3.0.0. Use :func:`~optuna.trial.Trial.suggest_float` instead.\n",
      "  \n",
      "/opt/conda/lib/python3.7/site-packages/ipykernel_launcher.py:7: FutureWarning: suggest_uniform has been deprecated in v3.0.0. This feature will be removed in v6.0.0. See https://github.com/optuna/optuna/releases/tag/v3.0.0. Use :func:`~optuna.trial.Trial.suggest_float` instead.\n",
      "  import sys\n",
      "\u001b[32m[I 2023-03-20 12:00:20,345]\u001b[0m Trial 11 finished with value: 0.7599122807017544 and parameters: {'learning_rate': 0.2084428722771241, 'max_depth': 8, 'n_estimators': 100, 'min_child_weight': 7, 'gamma': 2.800709469312528, 'subsample': 0.018599175636702492}. Best is trial 7 with value: 0.7640789473684211.\u001b[0m\n",
      "/opt/conda/lib/python3.7/site-packages/ipykernel_launcher.py:2: FutureWarning: suggest_uniform has been deprecated in v3.0.0. This feature will be removed in v6.0.0. See https://github.com/optuna/optuna/releases/tag/v3.0.0. Use :func:`~optuna.trial.Trial.suggest_float` instead.\n",
      "  \n",
      "/opt/conda/lib/python3.7/site-packages/ipykernel_launcher.py:6: FutureWarning: suggest_uniform has been deprecated in v3.0.0. This feature will be removed in v6.0.0. See https://github.com/optuna/optuna/releases/tag/v3.0.0. Use :func:`~optuna.trial.Trial.suggest_float` instead.\n",
      "  \n",
      "/opt/conda/lib/python3.7/site-packages/ipykernel_launcher.py:7: FutureWarning: suggest_uniform has been deprecated in v3.0.0. This feature will be removed in v6.0.0. See https://github.com/optuna/optuna/releases/tag/v3.0.0. Use :func:`~optuna.trial.Trial.suggest_float` instead.\n",
      "  import sys\n",
      "\u001b[32m[I 2023-03-20 12:00:21,775]\u001b[0m Trial 12 finished with value: 0.7453070175438596 and parameters: {'learning_rate': 0.18393507759923733, 'max_depth': 8, 'n_estimators': 104, 'min_child_weight': 8, 'gamma': 3.0783275346337975, 'subsample': 0.0177473582418532}. Best is trial 7 with value: 0.7640789473684211.\u001b[0m\n",
      "/opt/conda/lib/python3.7/site-packages/ipykernel_launcher.py:2: FutureWarning: suggest_uniform has been deprecated in v3.0.0. This feature will be removed in v6.0.0. See https://github.com/optuna/optuna/releases/tag/v3.0.0. Use :func:`~optuna.trial.Trial.suggest_float` instead.\n",
      "  \n",
      "/opt/conda/lib/python3.7/site-packages/ipykernel_launcher.py:6: FutureWarning: suggest_uniform has been deprecated in v3.0.0. This feature will be removed in v6.0.0. See https://github.com/optuna/optuna/releases/tag/v3.0.0. Use :func:`~optuna.trial.Trial.suggest_float` instead.\n",
      "  \n",
      "/opt/conda/lib/python3.7/site-packages/ipykernel_launcher.py:7: FutureWarning: suggest_uniform has been deprecated in v3.0.0. This feature will be removed in v6.0.0. See https://github.com/optuna/optuna/releases/tag/v3.0.0. Use :func:`~optuna.trial.Trial.suggest_float` instead.\n",
      "  import sys\n",
      "\u001b[32m[I 2023-03-20 12:00:24,237]\u001b[0m Trial 13 finished with value: 0.7432456140350878 and parameters: {'learning_rate': 0.18608119437495937, 'max_depth': 7, 'n_estimators': 104, 'min_child_weight': 10, 'gamma': 1.7630804513099902, 'subsample': 0.19509801899771978}. Best is trial 7 with value: 0.7640789473684211.\u001b[0m\n",
      "/opt/conda/lib/python3.7/site-packages/ipykernel_launcher.py:2: FutureWarning: suggest_uniform has been deprecated in v3.0.0. This feature will be removed in v6.0.0. See https://github.com/optuna/optuna/releases/tag/v3.0.0. Use :func:`~optuna.trial.Trial.suggest_float` instead.\n",
      "  \n",
      "/opt/conda/lib/python3.7/site-packages/ipykernel_launcher.py:6: FutureWarning: suggest_uniform has been deprecated in v3.0.0. This feature will be removed in v6.0.0. See https://github.com/optuna/optuna/releases/tag/v3.0.0. Use :func:`~optuna.trial.Trial.suggest_float` instead.\n",
      "  \n",
      "/opt/conda/lib/python3.7/site-packages/ipykernel_launcher.py:7: FutureWarning: suggest_uniform has been deprecated in v3.0.0. This feature will be removed in v6.0.0. See https://github.com/optuna/optuna/releases/tag/v3.0.0. Use :func:`~optuna.trial.Trial.suggest_float` instead.\n",
      "  import sys\n",
      "\u001b[32m[I 2023-03-20 12:00:25,857]\u001b[0m Trial 14 finished with value: 0.7494956140350878 and parameters: {'learning_rate': 0.24336404053996769, 'max_depth': 9, 'n_estimators': 122, 'min_child_weight': 7, 'gamma': 3.6273050537885174, 'subsample': 0.6482061598379426}. Best is trial 7 with value: 0.7640789473684211.\u001b[0m\n",
      "/opt/conda/lib/python3.7/site-packages/ipykernel_launcher.py:2: FutureWarning: suggest_uniform has been deprecated in v3.0.0. This feature will be removed in v6.0.0. See https://github.com/optuna/optuna/releases/tag/v3.0.0. Use :func:`~optuna.trial.Trial.suggest_float` instead.\n",
      "  \n",
      "/opt/conda/lib/python3.7/site-packages/ipykernel_launcher.py:6: FutureWarning: suggest_uniform has been deprecated in v3.0.0. This feature will be removed in v6.0.0. See https://github.com/optuna/optuna/releases/tag/v3.0.0. Use :func:`~optuna.trial.Trial.suggest_float` instead.\n",
      "  \n",
      "/opt/conda/lib/python3.7/site-packages/ipykernel_launcher.py:7: FutureWarning: suggest_uniform has been deprecated in v3.0.0. This feature will be removed in v6.0.0. See https://github.com/optuna/optuna/releases/tag/v3.0.0. Use :func:`~optuna.trial.Trial.suggest_float` instead.\n",
      "  import sys\n",
      "\u001b[32m[I 2023-03-20 12:00:27,148]\u001b[0m Trial 15 finished with value: 0.7557236842105264 and parameters: {'learning_rate': 0.013969017746372353, 'max_depth': 6, 'n_estimators': 86, 'min_child_weight': 4, 'gamma': 2.0107702887133994, 'subsample': 0.35549388260461434}. Best is trial 7 with value: 0.7640789473684211.\u001b[0m\n",
      "/opt/conda/lib/python3.7/site-packages/ipykernel_launcher.py:2: FutureWarning: suggest_uniform has been deprecated in v3.0.0. This feature will be removed in v6.0.0. See https://github.com/optuna/optuna/releases/tag/v3.0.0. Use :func:`~optuna.trial.Trial.suggest_float` instead.\n",
      "  \n",
      "/opt/conda/lib/python3.7/site-packages/ipykernel_launcher.py:6: FutureWarning: suggest_uniform has been deprecated in v3.0.0. This feature will be removed in v6.0.0. See https://github.com/optuna/optuna/releases/tag/v3.0.0. Use :func:`~optuna.trial.Trial.suggest_float` instead.\n",
      "  \n",
      "/opt/conda/lib/python3.7/site-packages/ipykernel_launcher.py:7: FutureWarning: suggest_uniform has been deprecated in v3.0.0. This feature will be removed in v6.0.0. See https://github.com/optuna/optuna/releases/tag/v3.0.0. Use :func:`~optuna.trial.Trial.suggest_float` instead.\n",
      "  import sys\n",
      "\u001b[32m[I 2023-03-20 12:00:28,718]\u001b[0m Trial 16 finished with value: 0.7473684210526316 and parameters: {'learning_rate': 0.15709836285551917, 'max_depth': 6, 'n_estimators': 119, 'min_child_weight': 9, 'gamma': 1.178015305852131, 'subsample': 0.17892864754261034}. Best is trial 7 with value: 0.7640789473684211.\u001b[0m\n",
      "/opt/conda/lib/python3.7/site-packages/ipykernel_launcher.py:2: FutureWarning: suggest_uniform has been deprecated in v3.0.0. This feature will be removed in v6.0.0. See https://github.com/optuna/optuna/releases/tag/v3.0.0. Use :func:`~optuna.trial.Trial.suggest_float` instead.\n",
      "  \n",
      "/opt/conda/lib/python3.7/site-packages/ipykernel_launcher.py:6: FutureWarning: suggest_uniform has been deprecated in v3.0.0. This feature will be removed in v6.0.0. See https://github.com/optuna/optuna/releases/tag/v3.0.0. Use :func:`~optuna.trial.Trial.suggest_float` instead.\n",
      "  \n",
      "/opt/conda/lib/python3.7/site-packages/ipykernel_launcher.py:7: FutureWarning: suggest_uniform has been deprecated in v3.0.0. This feature will be removed in v6.0.0. See https://github.com/optuna/optuna/releases/tag/v3.0.0. Use :func:`~optuna.trial.Trial.suggest_float` instead.\n",
      "  import sys\n",
      "\u001b[32m[I 2023-03-20 12:00:29,993]\u001b[0m Trial 17 finished with value: 0.7578070175438596 and parameters: {'learning_rate': 0.28804121620933226, 'max_depth': 9, 'n_estimators': 91, 'min_child_weight': 7, 'gamma': 2.2281296539801887, 'subsample': 0.5058747815785447}. Best is trial 7 with value: 0.7640789473684211.\u001b[0m\n",
      "/opt/conda/lib/python3.7/site-packages/ipykernel_launcher.py:2: FutureWarning: suggest_uniform has been deprecated in v3.0.0. This feature will be removed in v6.0.0. See https://github.com/optuna/optuna/releases/tag/v3.0.0. Use :func:`~optuna.trial.Trial.suggest_float` instead.\n",
      "  \n",
      "/opt/conda/lib/python3.7/site-packages/ipykernel_launcher.py:6: FutureWarning: suggest_uniform has been deprecated in v3.0.0. This feature will be removed in v6.0.0. See https://github.com/optuna/optuna/releases/tag/v3.0.0. Use :func:`~optuna.trial.Trial.suggest_float` instead.\n",
      "  \n",
      "/opt/conda/lib/python3.7/site-packages/ipykernel_launcher.py:7: FutureWarning: suggest_uniform has been deprecated in v3.0.0. This feature will be removed in v6.0.0. See https://github.com/optuna/optuna/releases/tag/v3.0.0. Use :func:`~optuna.trial.Trial.suggest_float` instead.\n",
      "  import sys\n",
      "\u001b[32m[I 2023-03-20 12:00:31,069]\u001b[0m Trial 18 finished with value: 0.7557456140350877 and parameters: {'learning_rate': 0.09920238716209354, 'max_depth': 10, 'n_estimators': 68, 'min_child_weight': 4, 'gamma': 2.460803320981077, 'subsample': 0.2891738096781953}. Best is trial 7 with value: 0.7640789473684211.\u001b[0m\n",
      "/opt/conda/lib/python3.7/site-packages/ipykernel_launcher.py:2: FutureWarning: suggest_uniform has been deprecated in v3.0.0. This feature will be removed in v6.0.0. See https://github.com/optuna/optuna/releases/tag/v3.0.0. Use :func:`~optuna.trial.Trial.suggest_float` instead.\n",
      "  \n",
      "/opt/conda/lib/python3.7/site-packages/ipykernel_launcher.py:6: FutureWarning: suggest_uniform has been deprecated in v3.0.0. This feature will be removed in v6.0.0. See https://github.com/optuna/optuna/releases/tag/v3.0.0. Use :func:`~optuna.trial.Trial.suggest_float` instead.\n",
      "  \n",
      "/opt/conda/lib/python3.7/site-packages/ipykernel_launcher.py:7: FutureWarning: suggest_uniform has been deprecated in v3.0.0. This feature will be removed in v6.0.0. See https://github.com/optuna/optuna/releases/tag/v3.0.0. Use :func:`~optuna.trial.Trial.suggest_float` instead.\n",
      "  import sys\n",
      "\u001b[32m[I 2023-03-20 12:00:31,875]\u001b[0m Trial 19 finished with value: 0.7536842105263158 and parameters: {'learning_rate': 0.10402297575592284, 'max_depth': 8, 'n_estimators': 50, 'min_child_weight': 5, 'gamma': 1.2827347753773406, 'subsample': 0.12087030932760288}. Best is trial 7 with value: 0.7640789473684211.\u001b[0m\n",
      "/opt/conda/lib/python3.7/site-packages/ipykernel_launcher.py:2: FutureWarning: suggest_uniform has been deprecated in v3.0.0. This feature will be removed in v6.0.0. See https://github.com/optuna/optuna/releases/tag/v3.0.0. Use :func:`~optuna.trial.Trial.suggest_float` instead.\n",
      "  \n",
      "/opt/conda/lib/python3.7/site-packages/ipykernel_launcher.py:6: FutureWarning: suggest_uniform has been deprecated in v3.0.0. This feature will be removed in v6.0.0. See https://github.com/optuna/optuna/releases/tag/v3.0.0. Use :func:`~optuna.trial.Trial.suggest_float` instead.\n",
      "  \n",
      "/opt/conda/lib/python3.7/site-packages/ipykernel_launcher.py:7: FutureWarning: suggest_uniform has been deprecated in v3.0.0. This feature will be removed in v6.0.0. See https://github.com/optuna/optuna/releases/tag/v3.0.0. Use :func:`~optuna.trial.Trial.suggest_float` instead.\n",
      "  import sys\n",
      "\u001b[32m[I 2023-03-20 12:00:34,436]\u001b[0m Trial 20 finished with value: 0.7453070175438596 and parameters: {'learning_rate': 0.011019157248692901, 'max_depth': 5, 'n_estimators': 185, 'min_child_weight': 7, 'gamma': 1.7580355156497138, 'subsample': 0.43614756207457456}. Best is trial 7 with value: 0.7640789473684211.\u001b[0m\n",
      "/opt/conda/lib/python3.7/site-packages/ipykernel_launcher.py:2: FutureWarning: suggest_uniform has been deprecated in v3.0.0. This feature will be removed in v6.0.0. See https://github.com/optuna/optuna/releases/tag/v3.0.0. Use :func:`~optuna.trial.Trial.suggest_float` instead.\n",
      "  \n",
      "/opt/conda/lib/python3.7/site-packages/ipykernel_launcher.py:6: FutureWarning: suggest_uniform has been deprecated in v3.0.0. This feature will be removed in v6.0.0. See https://github.com/optuna/optuna/releases/tag/v3.0.0. Use :func:`~optuna.trial.Trial.suggest_float` instead.\n",
      "  \n",
      "/opt/conda/lib/python3.7/site-packages/ipykernel_launcher.py:7: FutureWarning: suggest_uniform has been deprecated in v3.0.0. This feature will be removed in v6.0.0. See https://github.com/optuna/optuna/releases/tag/v3.0.0. Use :func:`~optuna.trial.Trial.suggest_float` instead.\n",
      "  import sys\n",
      "\u001b[32m[I 2023-03-20 12:00:35,734]\u001b[0m Trial 21 finished with value: 0.745328947368421 and parameters: {'learning_rate': 0.28535678856786656, 'max_depth': 9, 'n_estimators': 92, 'min_child_weight': 7, 'gamma': 2.3348613112222845, 'subsample': 0.5808733166271217}. Best is trial 7 with value: 0.7640789473684211.\u001b[0m\n",
      "/opt/conda/lib/python3.7/site-packages/ipykernel_launcher.py:2: FutureWarning: suggest_uniform has been deprecated in v3.0.0. This feature will be removed in v6.0.0. See https://github.com/optuna/optuna/releases/tag/v3.0.0. Use :func:`~optuna.trial.Trial.suggest_float` instead.\n",
      "  \n",
      "/opt/conda/lib/python3.7/site-packages/ipykernel_launcher.py:6: FutureWarning: suggest_uniform has been deprecated in v3.0.0. This feature will be removed in v6.0.0. See https://github.com/optuna/optuna/releases/tag/v3.0.0. Use :func:`~optuna.trial.Trial.suggest_float` instead.\n",
      "  \n",
      "/opt/conda/lib/python3.7/site-packages/ipykernel_launcher.py:7: FutureWarning: suggest_uniform has been deprecated in v3.0.0. This feature will be removed in v6.0.0. See https://github.com/optuna/optuna/releases/tag/v3.0.0. Use :func:`~optuna.trial.Trial.suggest_float` instead.\n",
      "  import sys\n",
      "\u001b[32m[I 2023-03-20 12:00:37,038]\u001b[0m Trial 22 finished with value: 0.7411184210526317 and parameters: {'learning_rate': 0.24382249899606065, 'max_depth': 10, 'n_estimators': 95, 'min_child_weight': 9, 'gamma': 2.0737375333549224, 'subsample': 0.442269622506613}. Best is trial 7 with value: 0.7640789473684211.\u001b[0m\n",
      "/opt/conda/lib/python3.7/site-packages/ipykernel_launcher.py:2: FutureWarning: suggest_uniform has been deprecated in v3.0.0. This feature will be removed in v6.0.0. See https://github.com/optuna/optuna/releases/tag/v3.0.0. Use :func:`~optuna.trial.Trial.suggest_float` instead.\n",
      "  \n",
      "/opt/conda/lib/python3.7/site-packages/ipykernel_launcher.py:6: FutureWarning: suggest_uniform has been deprecated in v3.0.0. This feature will be removed in v6.0.0. See https://github.com/optuna/optuna/releases/tag/v3.0.0. Use :func:`~optuna.trial.Trial.suggest_float` instead.\n",
      "  \n",
      "/opt/conda/lib/python3.7/site-packages/ipykernel_launcher.py:7: FutureWarning: suggest_uniform has been deprecated in v3.0.0. This feature will be removed in v6.0.0. See https://github.com/optuna/optuna/releases/tag/v3.0.0. Use :func:`~optuna.trial.Trial.suggest_float` instead.\n",
      "  import sys\n",
      "\u001b[32m[I 2023-03-20 12:00:38,662]\u001b[0m Trial 23 finished with value: 0.753640350877193 and parameters: {'learning_rate': 0.3484458403677818, 'max_depth': 8, 'n_estimators': 115, 'min_child_weight': 6, 'gamma': 2.96948424279309, 'subsample': 0.26327369928210703}. Best is trial 7 with value: 0.7640789473684211.\u001b[0m\n",
      "/opt/conda/lib/python3.7/site-packages/ipykernel_launcher.py:2: FutureWarning: suggest_uniform has been deprecated in v3.0.0. This feature will be removed in v6.0.0. See https://github.com/optuna/optuna/releases/tag/v3.0.0. Use :func:`~optuna.trial.Trial.suggest_float` instead.\n",
      "  \n",
      "/opt/conda/lib/python3.7/site-packages/ipykernel_launcher.py:6: FutureWarning: suggest_uniform has been deprecated in v3.0.0. This feature will be removed in v6.0.0. See https://github.com/optuna/optuna/releases/tag/v3.0.0. Use :func:`~optuna.trial.Trial.suggest_float` instead.\n",
      "  \n",
      "/opt/conda/lib/python3.7/site-packages/ipykernel_launcher.py:7: FutureWarning: suggest_uniform has been deprecated in v3.0.0. This feature will be removed in v6.0.0. See https://github.com/optuna/optuna/releases/tag/v3.0.0. Use :func:`~optuna.trial.Trial.suggest_float` instead.\n",
      "  import sys\n",
      "\u001b[32m[I 2023-03-20 12:00:39,820]\u001b[0m Trial 24 finished with value: 0.7641008771929825 and parameters: {'learning_rate': 0.17410156570161361, 'max_depth': 11, 'n_estimators': 74, 'min_child_weight': 7, 'gamma': 2.0301314327244433, 'subsample': 0.5888178026787458}. Best is trial 24 with value: 0.7641008771929825.\u001b[0m\n",
      "/opt/conda/lib/python3.7/site-packages/ipykernel_launcher.py:2: FutureWarning: suggest_uniform has been deprecated in v3.0.0. This feature will be removed in v6.0.0. See https://github.com/optuna/optuna/releases/tag/v3.0.0. Use :func:`~optuna.trial.Trial.suggest_float` instead.\n",
      "  \n",
      "/opt/conda/lib/python3.7/site-packages/ipykernel_launcher.py:6: FutureWarning: suggest_uniform has been deprecated in v3.0.0. This feature will be removed in v6.0.0. See https://github.com/optuna/optuna/releases/tag/v3.0.0. Use :func:`~optuna.trial.Trial.suggest_float` instead.\n",
      "  \n",
      "/opt/conda/lib/python3.7/site-packages/ipykernel_launcher.py:7: FutureWarning: suggest_uniform has been deprecated in v3.0.0. This feature will be removed in v6.0.0. See https://github.com/optuna/optuna/releases/tag/v3.0.0. Use :func:`~optuna.trial.Trial.suggest_float` instead.\n",
      "  import sys\n",
      "\u001b[32m[I 2023-03-20 12:00:40,880]\u001b[0m Trial 25 finished with value: 0.7536622807017545 and parameters: {'learning_rate': 0.1295539394192154, 'max_depth': 11, 'n_estimators': 72, 'min_child_weight': 8, 'gamma': 1.0846839232228678, 'subsample': 0.6524247070503533}. Best is trial 24 with value: 0.7641008771929825.\u001b[0m\n",
      "/opt/conda/lib/python3.7/site-packages/ipykernel_launcher.py:2: FutureWarning: suggest_uniform has been deprecated in v3.0.0. This feature will be removed in v6.0.0. See https://github.com/optuna/optuna/releases/tag/v3.0.0. Use :func:`~optuna.trial.Trial.suggest_float` instead.\n",
      "  \n",
      "/opt/conda/lib/python3.7/site-packages/ipykernel_launcher.py:6: FutureWarning: suggest_uniform has been deprecated in v3.0.0. This feature will be removed in v6.0.0. See https://github.com/optuna/optuna/releases/tag/v3.0.0. Use :func:`~optuna.trial.Trial.suggest_float` instead.\n",
      "  \n",
      "/opt/conda/lib/python3.7/site-packages/ipykernel_launcher.py:7: FutureWarning: suggest_uniform has been deprecated in v3.0.0. This feature will be removed in v6.0.0. See https://github.com/optuna/optuna/releases/tag/v3.0.0. Use :func:`~optuna.trial.Trial.suggest_float` instead.\n",
      "  import sys\n",
      "\u001b[32m[I 2023-03-20 12:00:42,365]\u001b[0m Trial 26 finished with value: 0.7432236842105263 and parameters: {'learning_rate': 0.2058458950999235, 'max_depth': 11, 'n_estimators': 111, 'min_child_weight': 9, 'gamma': 1.7512782561067186, 'subsample': 0.43646632802617374}. Best is trial 24 with value: 0.7641008771929825.\u001b[0m\n",
      "/opt/conda/lib/python3.7/site-packages/ipykernel_launcher.py:2: FutureWarning: suggest_uniform has been deprecated in v3.0.0. This feature will be removed in v6.0.0. See https://github.com/optuna/optuna/releases/tag/v3.0.0. Use :func:`~optuna.trial.Trial.suggest_float` instead.\n",
      "  \n",
      "/opt/conda/lib/python3.7/site-packages/ipykernel_launcher.py:6: FutureWarning: suggest_uniform has been deprecated in v3.0.0. This feature will be removed in v6.0.0. See https://github.com/optuna/optuna/releases/tag/v3.0.0. Use :func:`~optuna.trial.Trial.suggest_float` instead.\n",
      "  \n",
      "/opt/conda/lib/python3.7/site-packages/ipykernel_launcher.py:7: FutureWarning: suggest_uniform has been deprecated in v3.0.0. This feature will be removed in v6.0.0. See https://github.com/optuna/optuna/releases/tag/v3.0.0. Use :func:`~optuna.trial.Trial.suggest_float` instead.\n",
      "  import sys\n",
      "\u001b[32m[I 2023-03-20 12:00:44,296]\u001b[0m Trial 27 finished with value: 0.7557675438596492 and parameters: {'learning_rate': 0.10774170442465872, 'max_depth': 10, 'n_estimators': 134, 'min_child_weight': 6, 'gamma': 2.646347646874149, 'subsample': 0.7592420883089965}. Best is trial 24 with value: 0.7641008771929825.\u001b[0m\n",
      "/opt/conda/lib/python3.7/site-packages/ipykernel_launcher.py:2: FutureWarning: suggest_uniform has been deprecated in v3.0.0. This feature will be removed in v6.0.0. See https://github.com/optuna/optuna/releases/tag/v3.0.0. Use :func:`~optuna.trial.Trial.suggest_float` instead.\n",
      "  \n",
      "/opt/conda/lib/python3.7/site-packages/ipykernel_launcher.py:6: FutureWarning: suggest_uniform has been deprecated in v3.0.0. This feature will be removed in v6.0.0. See https://github.com/optuna/optuna/releases/tag/v3.0.0. Use :func:`~optuna.trial.Trial.suggest_float` instead.\n",
      "  \n",
      "/opt/conda/lib/python3.7/site-packages/ipykernel_launcher.py:7: FutureWarning: suggest_uniform has been deprecated in v3.0.0. This feature will be removed in v6.0.0. See https://github.com/optuna/optuna/releases/tag/v3.0.0. Use :func:`~optuna.trial.Trial.suggest_float` instead.\n",
      "  import sys\n",
      "\u001b[32m[I 2023-03-20 12:00:45,202]\u001b[0m Trial 28 finished with value: 0.7599342105263158 and parameters: {'learning_rate': 0.14860043484973895, 'max_depth': 10, 'n_estimators': 58, 'min_child_weight': 5, 'gamma': 2.033216278694962, 'subsample': 0.25693947205977685}. Best is trial 24 with value: 0.7641008771929825.\u001b[0m\n",
      "/opt/conda/lib/python3.7/site-packages/ipykernel_launcher.py:2: FutureWarning: suggest_uniform has been deprecated in v3.0.0. This feature will be removed in v6.0.0. See https://github.com/optuna/optuna/releases/tag/v3.0.0. Use :func:`~optuna.trial.Trial.suggest_float` instead.\n",
      "  \n",
      "/opt/conda/lib/python3.7/site-packages/ipykernel_launcher.py:6: FutureWarning: suggest_uniform has been deprecated in v3.0.0. This feature will be removed in v6.0.0. See https://github.com/optuna/optuna/releases/tag/v3.0.0. Use :func:`~optuna.trial.Trial.suggest_float` instead.\n",
      "  \n",
      "/opt/conda/lib/python3.7/site-packages/ipykernel_launcher.py:7: FutureWarning: suggest_uniform has been deprecated in v3.0.0. This feature will be removed in v6.0.0. See https://github.com/optuna/optuna/releases/tag/v3.0.0. Use :func:`~optuna.trial.Trial.suggest_float` instead.\n",
      "  import sys\n",
      "\u001b[32m[I 2023-03-20 12:00:46,078]\u001b[0m Trial 29 finished with value: 0.741140350877193 and parameters: {'learning_rate': 0.3889361024856467, 'max_depth': 11, 'n_estimators': 55, 'min_child_weight': 3, 'gamma': 0.8300748261055833, 'subsample': 0.5628820648567452}. Best is trial 24 with value: 0.7641008771929825.\u001b[0m\n"
     ]
    },
    {
     "data": {
      "text/plain": [
       "{'learning_rate': 0.17410156570161361,\n",
       " 'max_depth': 11,\n",
       " 'n_estimators': 74,\n",
       " 'min_child_weight': 7,\n",
       " 'gamma': 2.0301314327244433,\n",
       " 'subsample': 0.5888178026787458}"
      ]
     },
     "execution_count": 9,
     "metadata": {},
     "output_type": "execute_result"
    }
   ],
   "source": [
    "study = optuna.create_study(direction='maximize',sampler=optuna.samplers.TPESampler(seed=42))\n",
    "study.optimize(objective, n_trials=30)\n",
    "study.best_params"
   ]
  },
  {
   "cell_type": "code",
   "execution_count": 10,
   "id": "22404c40",
   "metadata": {
    "execution": {
     "iopub.execute_input": "2023-03-20T12:00:46.115519Z",
     "iopub.status.busy": "2023-03-20T12:00:46.114739Z",
     "iopub.status.idle": "2023-03-20T12:00:46.123264Z",
     "shell.execute_reply": "2023-03-20T12:00:46.121755Z"
    },
    "papermill": {
     "duration": 0.022832,
     "end_time": "2023-03-20T12:00:46.126177",
     "exception": false,
     "start_time": "2023-03-20T12:00:46.103345",
     "status": "completed"
    },
    "tags": []
   },
   "outputs": [],
   "source": [
    "xgbc = XGBClassifier(learning_rate= list(study.best_params.values())[0],\n",
    " max_depth= list(study.best_params.values())[1],\n",
    " n_estimators= list(study.best_params.values())[2],\n",
    " min_child_weight= list(study.best_params.values())[3],\n",
    " gamma= list(study.best_params.values())[4],\n",
    " subsample= list(study.best_params.values())[5]\n",
    "                     )"
   ]
  },
  {
   "cell_type": "code",
   "execution_count": 11,
   "id": "c17700e4",
   "metadata": {
    "execution": {
     "iopub.execute_input": "2023-03-20T12:00:46.149140Z",
     "iopub.status.busy": "2023-03-20T12:00:46.148696Z",
     "iopub.status.idle": "2023-03-20T12:00:46.154436Z",
     "shell.execute_reply": "2023-03-20T12:00:46.152898Z"
    },
    "papermill": {
     "duration": 0.020272,
     "end_time": "2023-03-20T12:00:46.157342",
     "exception": false,
     "start_time": "2023-03-20T12:00:46.137070",
     "status": "completed"
    },
    "tags": []
   },
   "outputs": [],
   "source": [
    "from sklearn.metrics import classification_report"
   ]
  },
  {
   "cell_type": "code",
   "execution_count": 12,
   "id": "8830c35d",
   "metadata": {
    "execution": {
     "iopub.execute_input": "2023-03-20T12:00:46.179753Z",
     "iopub.status.busy": "2023-03-20T12:00:46.178880Z",
     "iopub.status.idle": "2023-03-20T12:00:46.390925Z",
     "shell.execute_reply": "2023-03-20T12:00:46.389633Z"
    },
    "papermill": {
     "duration": 0.226896,
     "end_time": "2023-03-20T12:00:46.393879",
     "exception": false,
     "start_time": "2023-03-20T12:00:46.166983",
     "status": "completed"
    },
    "tags": []
   },
   "outputs": [
    {
     "data": {
      "text/plain": [
       "XGBClassifier(base_score=0.5, booster='gbtree', callbacks=None,\n",
       "              colsample_bylevel=1, colsample_bynode=1, colsample_bytree=1,\n",
       "              early_stopping_rounds=None, enable_categorical=False,\n",
       "              eval_metric=None, gamma=2.0301314327244433, gpu_id=-1,\n",
       "              grow_policy='depthwise', importance_type=None,\n",
       "              interaction_constraints='', learning_rate=0.17410156570161361,\n",
       "              max_bin=256, max_cat_to_onehot=4, max_delta_step=0, max_depth=11,\n",
       "              max_leaves=0, min_child_weight=7, missing=nan,\n",
       "              monotone_constraints='()', n_estimators=74, n_jobs=0,\n",
       "              num_parallel_tree=1, predictor='auto', random_state=0,\n",
       "              reg_alpha=0, reg_lambda=1, ...)"
      ]
     },
     "execution_count": 12,
     "metadata": {},
     "output_type": "execute_result"
    }
   ],
   "source": [
    "xgbc.fit(X_train, y_train)"
   ]
  },
  {
   "cell_type": "code",
   "execution_count": 13,
   "id": "1c411e7d",
   "metadata": {
    "execution": {
     "iopub.execute_input": "2023-03-20T12:00:46.417274Z",
     "iopub.status.busy": "2023-03-20T12:00:46.416039Z",
     "iopub.status.idle": "2023-03-20T12:00:46.428772Z",
     "shell.execute_reply": "2023-03-20T12:00:46.427685Z"
    },
    "papermill": {
     "duration": 0.028019,
     "end_time": "2023-03-20T12:00:46.432127",
     "exception": false,
     "start_time": "2023-03-20T12:00:46.404108",
     "status": "completed"
    },
    "tags": []
   },
   "outputs": [],
   "source": [
    "y_predicted = xgbc.predict(X_test)"
   ]
  },
  {
   "cell_type": "code",
   "execution_count": 14,
   "id": "2bde74a0",
   "metadata": {
    "execution": {
     "iopub.execute_input": "2023-03-20T12:00:46.455964Z",
     "iopub.status.busy": "2023-03-20T12:00:46.455540Z",
     "iopub.status.idle": "2023-03-20T12:00:46.468664Z",
     "shell.execute_reply": "2023-03-20T12:00:46.467031Z"
    },
    "papermill": {
     "duration": 0.028191,
     "end_time": "2023-03-20T12:00:46.472608",
     "exception": false,
     "start_time": "2023-03-20T12:00:46.444417",
     "status": "completed"
    },
    "tags": []
   },
   "outputs": [
    {
     "name": "stdout",
     "output_type": "stream",
     "text": [
      "              precision    recall  f1-score   support\n",
      "\n",
      "           0       0.84      0.87      0.86        78\n",
      "           1       0.74      0.69      0.72        42\n",
      "\n",
      "    accuracy                           0.81       120\n",
      "   macro avg       0.79      0.78      0.79       120\n",
      "weighted avg       0.81      0.81      0.81       120\n",
      "\n"
     ]
    }
   ],
   "source": [
    "print(classification_report(y_test, y_predicted))"
   ]
  },
  {
   "cell_type": "markdown",
   "id": "b266dac0",
   "metadata": {
    "papermill": {
     "duration": 0.009984,
     "end_time": "2023-03-20T12:00:46.493319",
     "exception": false,
     "start_time": "2023-03-20T12:00:46.483335",
     "status": "completed"
    },
    "tags": []
   },
   "source": [
    "**I also tried using standardization and SMOTE, but the ACCURACY was low. I wonder why?**"
   ]
  },
  {
   "cell_type": "code",
   "execution_count": null,
   "id": "53cf4743",
   "metadata": {
    "papermill": {
     "duration": 0.009799,
     "end_time": "2023-03-20T12:00:46.513552",
     "exception": false,
     "start_time": "2023-03-20T12:00:46.503753",
     "status": "completed"
    },
    "tags": []
   },
   "outputs": [],
   "source": []
  }
 ],
 "metadata": {
  "kernelspec": {
   "display_name": "Python 3",
   "language": "python",
   "name": "python3"
  },
  "language_info": {
   "codemirror_mode": {
    "name": "ipython",
    "version": 3
   },
   "file_extension": ".py",
   "mimetype": "text/x-python",
   "name": "python",
   "nbconvert_exporter": "python",
   "pygments_lexer": "ipython3",
   "version": "3.7.12"
  },
  "papermill": {
   "default_parameters": {},
   "duration": 58.422367,
   "end_time": "2023-03-20T12:00:47.449315",
   "environment_variables": {},
   "exception": null,
   "input_path": "__notebook__.ipynb",
   "output_path": "__notebook__.ipynb",
   "parameters": {},
   "start_time": "2023-03-20T11:59:49.026948",
   "version": "2.4.0"
  }
 },
 "nbformat": 4,
 "nbformat_minor": 5
}
